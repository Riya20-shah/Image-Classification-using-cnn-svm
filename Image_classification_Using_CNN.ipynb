{
 "cells": [
  {
   "cell_type": "code",
   "execution_count": 1,
   "id": "9ba8af0b",
   "metadata": {},
   "outputs": [],
   "source": [
    "# !pip install bing-image-downloader"
   ]
  },
  {
   "cell_type": "code",
   "execution_count": 2,
   "id": "27f1f1fa",
   "metadata": {},
   "outputs": [],
   "source": [
    "# !mkdir Animal_DataSet"
   ]
  },
  {
   "cell_type": "code",
   "execution_count": 3,
   "id": "4271ed07",
   "metadata": {},
   "outputs": [],
   "source": [
    "# from bing_image_downloader import downloader\n",
    "# downloader.download('Ice-cream cone' , limit = 30 , output_dir = 'Image_DataSet' , adult_filter_off = True)\n",
    "#  here we use Adult_filter because we dont ant to any unwanted image for the outof subject "
   ]
  },
  {
   "cell_type": "code",
   "execution_count": 4,
   "id": "979a7fbd",
   "metadata": {},
   "outputs": [],
   "source": [
    "# downloader.download('Cow' , limit = 30 , output_dir = 'Animal_DataSet' , adult_filter_off = True)"
   ]
  },
  {
   "cell_type": "code",
   "execution_count": 5,
   "id": "1dd084de",
   "metadata": {},
   "outputs": [],
   "source": [
    "# downloader.download('cars' , limit = 20 , output_dir = 'Image_DataSet' , adult_filter_off = True)"
   ]
  },
  {
   "cell_type": "code",
   "execution_count": 6,
   "id": "4a6f1a5e",
   "metadata": {},
   "outputs": [],
   "source": [
    "# downloader.download('Rose Flower' , limit = 30 , output_dir = 'Image_DataSet' , adult_filter_off = True)"
   ]
  },
  {
   "cell_type": "code",
   "execution_count": 7,
   "id": "80e919a3",
   "metadata": {},
   "outputs": [],
   "source": [
    "# downloader.download('Sunflower' , limit = 30 , output_dir = 'Image_DataSet' , adult_filter_off = True)"
   ]
  },
  {
   "cell_type": "code",
   "execution_count": 8,
   "id": "83c71923",
   "metadata": {},
   "outputs": [],
   "source": [
    "# downloader.download('lily flower' , limit = 30 , output_dir = 'Image_DataSet' , adult_filter_off = True)"
   ]
  },
  {
   "cell_type": "code",
   "execution_count": 9,
   "id": "8372e3b1",
   "metadata": {},
   "outputs": [],
   "source": [
    "import os\n",
    "import matplotlib.pyplot as plt\n",
    "import numpy as np\n",
    "from skimage.io import imread\n",
    "from skimage.transform import resize\n",
    "from sklearn.metrics import accuracy_score , confusion_matrix"
   ]
  },
  {
   "cell_type": "markdown",
   "id": "e2211893",
   "metadata": {},
   "source": [
    "### PreProcessing \n"
   ]
  },
  {
   "cell_type": "code",
   "execution_count": 10,
   "id": "58d59927",
   "metadata": {},
   "outputs": [],
   "source": [
    "data_Dir = 'C:\\\\Users\\\\Administrator\\\\Desktop\\\\ML\\\\Practice Quesion (Scaladge)\\\\ML_Projects\\\\Image_DataSet'\n",
    "classes = ['cars' , 'Sunflower' , 'Dog' , 'Ice-cream cone']\n",
    "X_Input = []\n",
    "y_target = []\n",
    "flat_Data = []"
   ]
  },
  {
   "cell_type": "code",
   "execution_count": 11,
   "id": "110fba7c",
   "metadata": {},
   "outputs": [],
   "source": [
    "for category in classes:\n",
    "    encoded_cate = classes.index(category)\n",
    "    path = os.path.join(data_Dir , category)\n",
    "    for img in os.listdir(path):\n",
    "        x = plt.imread(os.path.join(path,img))\n",
    "#         print(len(x))\n",
    "        x_resized = resize(x , (150 , 150 , 3))\n",
    "        y_target.append(encoded_cate)\n",
    "        X_Input.append(x_resized)\n",
    "        flat_Data.append(x_resized.flatten())\n",
    "X_Input = np.array(X_Input)\n",
    "y_target = np.array(y_target)\n",
    "flat_Data = np.array(flat_Data)"
   ]
  },
  {
   "cell_type": "code",
   "execution_count": 12,
   "id": "0c8671de",
   "metadata": {},
   "outputs": [
    {
     "data": {
      "text/plain": [
       "(84,)"
      ]
     },
     "execution_count": 12,
     "metadata": {},
     "output_type": "execute_result"
    }
   ],
   "source": [
    "y_target.shape"
   ]
  },
  {
   "cell_type": "code",
   "execution_count": 13,
   "id": "ca229355",
   "metadata": {
    "scrolled": true
   },
   "outputs": [
    {
     "data": {
      "text/plain": [
       "(array([0, 1, 2, 3]), array([19, 19, 20, 26], dtype=int64))"
      ]
     },
     "execution_count": 13,
     "metadata": {},
     "output_type": "execute_result"
    }
   ],
   "source": [
    "np.unique(y_target , return_counts = True)"
   ]
  },
  {
   "cell_type": "markdown",
   "id": "10a1b4c9",
   "metadata": {},
   "source": [
    "### Model build using ML(SVM , Decision Tree  for check better Accuracy )"
   ]
  },
  {
   "cell_type": "code",
   "execution_count": 14,
   "id": "b59adb77",
   "metadata": {},
   "outputs": [],
   "source": [
    "x_scaled1 = flat_Data/255"
   ]
  },
  {
   "cell_type": "code",
   "execution_count": 15,
   "id": "11aedfab",
   "metadata": {},
   "outputs": [],
   "source": [
    "from sklearn.model_selection import train_test_split\n",
    "xtrain , xtest , ytrain , ytest = train_test_split(x_scaled1 , y_target,  test_size = 0.3 , random_state = 109) "
   ]
  },
  {
   "cell_type": "markdown",
   "id": "2bbc8e99",
   "metadata": {},
   "source": [
    "### SVM"
   ]
  },
  {
   "cell_type": "code",
   "execution_count": 16,
   "id": "e1e13d18",
   "metadata": {
    "scrolled": false
   },
   "outputs": [
    {
     "name": "stdout",
     "output_type": "stream",
     "text": [
      "0.46153846153846156\n",
      "[3 3 3 3 3 3 1 3 3 1 3 3 0 3 0 3 3 3 3 3 0 0 3 3 3 0]\n"
     ]
    }
   ],
   "source": [
    "# Model build using SVM \n",
    "\n",
    "from sklearn.svm import SVC\n",
    "svm_model1 = SVC(probability=True)\n",
    "svm_model1.fit(xtrain , ytrain)\n",
    "print(svm_model1.score(xtest , ytest))\n",
    "svm_ypred = svm_model1.predict(xtest)\n",
    "print(svm_ypred)"
   ]
  },
  {
   "cell_type": "code",
   "execution_count": 17,
   "id": "ea3d1682",
   "metadata": {},
   "outputs": [
    {
     "data": {
      "text/plain": [
       "<bound method BaseEstimator.get_params of SVC(probability=True)>"
      ]
     },
     "execution_count": 17,
     "metadata": {},
     "output_type": "execute_result"
    }
   ],
   "source": [
    "svm_model1.get_params"
   ]
  },
  {
   "cell_type": "code",
   "execution_count": 18,
   "id": "3d4257ca",
   "metadata": {
    "scrolled": true
   },
   "outputs": [
    {
     "name": "stdout",
     "output_type": "stream",
     "text": [
      "0.46153846153846156\n"
     ]
    }
   ],
   "source": [
    "print(accuracy_score(svm_ypred, ytest))\n",
    "con_svm = confusion_matrix(svm_ypred , ytest)"
   ]
  },
  {
   "cell_type": "code",
   "execution_count": 19,
   "id": "e464fa7a",
   "metadata": {},
   "outputs": [
    {
     "data": {
      "text/plain": [
       "Text(24.0, 0.5, 'Truth')"
      ]
     },
     "execution_count": 19,
     "metadata": {},
     "output_type": "execute_result"
    },
    {
     "data": {
      "image/png": "[encoded data removed]",
      "text/plain": [
       "<Figure size 360x360 with 2 Axes>"
      ]
     },
     "metadata": {
      "needs_background": "light"
     },
     "output_type": "display_data"
    }
   ],
   "source": [
    "import seaborn as sb\n",
    "plt.figure(figsize=(5,5))\n",
    "sb.heatmap(con_svm , annot=True ,fmt='d')\n",
    "plt.xlabel('Predicted')\n",
    "plt.ylabel(\"Truth\")"
   ]
  },
  {
   "cell_type": "markdown",
   "id": "9f556242",
   "metadata": {},
   "source": [
    "### Decision Tree"
   ]
  },
  {
   "cell_type": "code",
   "execution_count": 20,
   "id": "4011ef26",
   "metadata": {},
   "outputs": [
    {
     "name": "stdout",
     "output_type": "stream",
     "text": [
      "0.34615384615384615\n",
      "[2 2 3 1 1 3 2 3 2 1 2 3 0 1 1 1 2 2 0 2 1 3 2 1 2 2]\n"
     ]
    }
   ],
   "source": [
    "# model build using Decision Tree\n",
    "\n",
    "from sklearn.tree import DecisionTreeClassifier\n",
    "tree_model1 = DecisionTreeClassifier()\n",
    "tree_model1.fit(xtrain , ytrain)\n",
    "print(tree_model1.score(xtest , ytest))\n",
    "ypred_tree = tree_model1.predict(xtest)\n",
    "print(ypred_tree)"
   ]
  },
  {
   "cell_type": "code",
   "execution_count": 21,
   "id": "9f6d2b16",
   "metadata": {
    "scrolled": false
   },
   "outputs": [
    {
     "data": {
      "text/plain": [
       "array([1, 0, 3, 2, 1, 2, 1, 2, 3, 1, 3, 3, 0, 1, 2, 1, 3, 3, 2, 2, 0, 1,\n",
       "       2, 3, 0, 0])"
      ]
     },
     "execution_count": 21,
     "metadata": {},
     "output_type": "execute_result"
    }
   ],
   "source": [
    "ytest"
   ]
  },
  {
   "cell_type": "code",
   "execution_count": 22,
   "id": "9a7d4d9f",
   "metadata": {
    "scrolled": false
   },
   "outputs": [
    {
     "name": "stdout",
     "output_type": "stream",
     "text": [
      "0.34615384615384615\n"
     ]
    }
   ],
   "source": [
    "print(accuracy_score(ypred_tree, ytest))\n",
    "deci_conf = confusion_matrix(ypred_tree , ytest)"
   ]
  },
  {
   "cell_type": "code",
   "execution_count": 23,
   "id": "b6d49587",
   "metadata": {},
   "outputs": [
    {
     "data": {
      "text/plain": [
       "Text(24.0, 0.5, 'Truth')"
      ]
     },
     "execution_count": 23,
     "metadata": {},
     "output_type": "execute_result"
    },
    {
     "data": {
      "image/png": "[encoded data removed]",
      "text/plain": [
       "<Figure size 360x360 with 2 Axes>"
      ]
     },
     "metadata": {
      "needs_background": "light"
     },
     "output_type": "display_data"
    }
   ],
   "source": [
    "plt.figure(figsize=(5,5))\n",
    "sb.heatmap(deci_conf , annot=True ,fmt='d')\n",
    "plt.xlabel('Predicted')\n",
    "plt.ylabel(\"Truth\")"
   ]
  },
  {
   "cell_type": "markdown",
   "id": "0769e0ae",
   "metadata": {},
   "source": [
    "### Model Bulding Using CNN"
   ]
  },
  {
   "cell_type": "code",
   "execution_count": 24,
   "id": "e5c0234b",
   "metadata": {},
   "outputs": [],
   "source": [
    "import tensorflow as tf\n",
    "from tensorflow import keras\n",
    "from tensorflow.keras import layers , datasets , models \n",
    "\n",
    "from sklearn.model_selection import train_test_split\n",
    "x_train , x_test , y_train , y_test = train_test_split(X_Input , y_target,  test_size = 0.3 , random_state = 109) "
   ]
  },
  {
   "cell_type": "code",
   "execution_count": 25,
   "id": "71fa34a6",
   "metadata": {},
   "outputs": [
    {
     "name": "stdout",
     "output_type": "stream",
     "text": [
      "Epoch 1/20\n",
      "2/2 [==============================] - 19s 4s/step - loss: 1.5391 - accuracy: 0.2759\n",
      "Epoch 2/20\n",
      "2/2 [==============================] - 4s 2s/step - loss: 1.3617 - accuracy: 0.3793\n",
      "Epoch 3/20\n",
      "2/2 [==============================] - 4s 2s/step - loss: 1.2216 - accuracy: 0.3793\n",
      "Epoch 4/20\n",
      "2/2 [==============================] - 3s 1s/step - loss: 1.0503 - accuracy: 0.5690\n",
      "Epoch 5/20\n",
      "2/2 [==============================] - 3s 1s/step - loss: 0.7343 - accuracy: 0.7586\n",
      "Epoch 6/20\n",
      "2/2 [==============================] - 3s 1s/step - loss: 0.5732 - accuracy: 0.7931\n",
      "Epoch 7/20\n",
      "2/2 [==============================] - 3s 1s/step - loss: 0.3272 - accuracy: 0.9310\n",
      "Epoch 8/20\n",
      "2/2 [==============================] - 3s 1s/step - loss: 0.1859 - accuracy: 0.9828\n",
      "Epoch 9/20\n",
      "2/2 [==============================] - 3s 1s/step - loss: 0.0981 - accuracy: 1.0000\n",
      "Epoch 10/20\n",
      "2/2 [==============================] - 3s 1s/step - loss: 0.0578 - accuracy: 1.0000\n",
      "Epoch 11/20\n",
      "2/2 [==============================] - 3s 1s/step - loss: 0.0253 - accuracy: 1.0000\n",
      "Epoch 12/20\n",
      "2/2 [==============================] - 3s 1s/step - loss: 0.0091 - accuracy: 1.0000\n",
      "Epoch 13/20\n",
      "2/2 [==============================] - 3s 1s/step - loss: 0.0059 - accuracy: 1.0000\n",
      "Epoch 14/20\n",
      "2/2 [==============================] - 3s 1s/step - loss: 0.0050 - accuracy: 1.0000\n",
      "Epoch 15/20\n",
      "2/2 [==============================] - 4s 3s/step - loss: 0.0014 - accuracy: 1.0000\n",
      "Epoch 16/20\n",
      "2/2 [==============================] - 3s 2s/step - loss: 5.8310e-04 - accuracy: 1.0000\n",
      "Epoch 17/20\n",
      "2/2 [==============================] - 4s 2s/step - loss: 4.3595e-04 - accuracy: 1.0000\n",
      "Epoch 18/20\n",
      "2/2 [==============================] - 3s 1s/step - loss: 3.3987e-04 - accuracy: 1.0000\n",
      "Epoch 19/20\n",
      "2/2 [==============================] - 3s 1s/step - loss: 2.6852e-04 - accuracy: 1.0000\n",
      "Epoch 20/20\n",
      "2/2 [==============================] - 3s 1s/step - loss: 1.6384e-04 - accuracy: 1.0000\n"
     ]
    },
    {
     "data": {
      "text/plain": [
       "<keras.callbacks.History at 0x1aa99351d00>"
      ]
     },
     "execution_count": 25,
     "metadata": {},
     "output_type": "execute_result"
    }
   ],
   "source": [
    "cnnModel = models.Sequential([\n",
    "    \n",
    "#     CNN Layers \n",
    "    layers.Conv2D(filters = 84 , kernel_size=(3,3) , activation = 'relu' , input_shape = (150,150,3)),\n",
    "    layers.MaxPooling2D((2,2,)),\n",
    "    \n",
    "    layers.Conv2D(filters = 25 , kernel_size=(3,3) , activation = 'relu' , input_shape = (150,150,3)),\n",
    "    layers.MaxPooling2D((2,2,)),\n",
    "    \n",
    "#     layers.Conv2D(filters = 56 , kernel_size=(3,3) , activation = 'relu' , input_shape = (50,50,3)),\n",
    "#     layers.MaxPooling2D((2,2,)),\n",
    "    \n",
    "#     ANN Layers \n",
    "    layers.Flatten(input_shape = (150 , 150,3)),\n",
    "    layers.Dense(84 , activation = 'relu'),\n",
    "    layers.Dense(22 , activation = 'relu'),\n",
    "    layers.Dense(4 , activation = 'sigmoid')\n",
    "\n",
    "])\n",
    "\n",
    "cnnModel.compile(\n",
    "    optimizer = 'adam',\n",
    "    loss = 'sparse_categorical_crossentropy',\n",
    "    metrics = ['accuracy']\n",
    ")\n",
    "\n",
    "cnnModel.fit(x_train , y_train , epochs = 20)"
   ]
  },
  {
   "cell_type": "code",
   "execution_count": 26,
   "id": "eeb64879",
   "metadata": {
    "scrolled": false
   },
   "outputs": [
    {
     "name": "stdout",
     "output_type": "stream",
     "text": [
      "1/1 [==============================] - 4s 4s/step - loss: 2.7264 - accuracy: 0.6154\n"
     ]
    },
    {
     "data": {
      "text/plain": [
       "[2.726414918899536, 0.6153846383094788]"
      ]
     },
     "execution_count": 26,
     "metadata": {},
     "output_type": "execute_result"
    }
   ],
   "source": [
    "cnnModel.evaluate(x_test , y_test)"
   ]
  },
  {
   "cell_type": "code",
   "execution_count": 27,
   "id": "bffbf02d",
   "metadata": {},
   "outputs": [
    {
     "data": {
      "text/plain": [
       "Text(24.0, 0.5, 'Truth')"
      ]
     },
     "execution_count": 27,
     "metadata": {},
     "output_type": "execute_result"
    },
    {
     "data": {
      "image/png": "[encoded data removed]",
      "text/plain": [
       "<Figure size 360x360 with 2 Axes>"
      ]
     },
     "metadata": {
      "needs_background": "light"
     },
     "output_type": "display_data"
    }
   ],
   "source": [
    "yPredCnn = cnnModel.predict(x_test)\n",
    "ypredicted_labels = [np.argmax(x) for x in yPredCnn]\n",
    "cnn_conf = confusion_matrix(ypredicted_labels , y_test)\n",
    "plt.figure(figsize=(5,5))\n",
    "sb.heatmap(cnn_conf , annot=True ,fmt='d')\n",
    "plt.xlabel('Predicted')\n",
    "plt.ylabel(\"Truth\")"
   ]
  },
  {
   "cell_type": "code",
   "execution_count": 28,
   "id": "e0c291fc",
   "metadata": {},
   "outputs": [
    {
     "data": {
      "text/plain": [
       "[1, 0, 3, 2, 2, 3, 3, 3, 3, 1, 3, 3, 3, 1, 0, 1, 2, 2, 2, 3, 0, 3, 2, 3, 0, 0]"
      ]
     },
     "execution_count": 28,
     "metadata": {},
     "output_type": "execute_result"
    }
   ],
   "source": [
    "ypredicted_labels = [np.argmax(x) for x in yPredCnn]  # return the index of maximum value \n",
    "ypredicted_labels"
   ]
  },
  {
   "cell_type": "code",
   "execution_count": 29,
   "id": "03eee015",
   "metadata": {
    "scrolled": true
   },
   "outputs": [
    {
     "data": {
      "text/plain": [
       "array([1, 0, 3, 2, 1, 2, 1, 2, 3, 1, 3, 3, 0, 1, 2, 1, 3, 3, 2, 2, 0, 1,\n",
       "       2, 3, 0, 0])"
      ]
     },
     "execution_count": 29,
     "metadata": {},
     "output_type": "execute_result"
    }
   ],
   "source": [
    "y_test"
   ]
  },
  {
   "cell_type": "code",
   "execution_count": 30,
   "id": "cd77a043",
   "metadata": {},
   "outputs": [
    {
     "data": {
      "text/plain": [
       "array([[2.1907656e-06, 9.9997729e-01, 2.2872984e-02, 9.9839342e-01],\n",
       "       [9.9999964e-01, 5.9884489e-03, 3.7275791e-01, 9.9992049e-01],\n",
       "       [8.6966610e-01, 1.1954606e-03, 9.9450922e-01, 9.9999899e-01],\n",
       "       [6.5811276e-02, 1.4762878e-02, 9.9933350e-01, 9.9736476e-01],\n",
       "       [2.1534497e-05, 4.0495396e-03, 9.9999988e-01, 9.9972510e-01]],\n",
       "      dtype=float32)"
      ]
     },
     "execution_count": 30,
     "metadata": {},
     "output_type": "execute_result"
    }
   ],
   "source": [
    "yPredCnn[:5]"
   ]
  },
  {
   "cell_type": "markdown",
   "id": "268730ec",
   "metadata": {},
   "source": [
    "### Improve the Accuracy using Data Augmentation"
   ]
  },
  {
   "cell_type": "code",
   "execution_count": 31,
   "id": "4448d077",
   "metadata": {},
   "outputs": [
    {
     "name": "stdout",
     "output_type": "stream",
     "text": [
      "Epoch 1/40\n",
      "2/2 [==============================] - 7s 2s/step - loss: 3.9185 - accuracy: 0.3276\n",
      "Epoch 2/40\n",
      "2/2 [==============================] - 4s 2s/step - loss: 1.5478 - accuracy: 0.2241\n",
      "Epoch 3/40\n",
      "2/2 [==============================] - 3s 1s/step - loss: 1.3880 - accuracy: 0.1897\n",
      "Epoch 4/40\n",
      "2/2 [==============================] - 3s 1s/step - loss: 1.3788 - accuracy: 0.4828\n",
      "Epoch 5/40\n",
      "2/2 [==============================] - 3s 1s/step - loss: 1.3360 - accuracy: 0.4310\n",
      "Epoch 6/40\n",
      "2/2 [==============================] - 3s 2s/step - loss: 1.3158 - accuracy: 0.2931\n",
      "Epoch 7/40\n",
      "2/2 [==============================] - 3s 1s/step - loss: 1.2598 - accuracy: 0.5000\n",
      "Epoch 8/40\n",
      "2/2 [==============================] - 3s 1s/step - loss: 1.2231 - accuracy: 0.4828\n",
      "Epoch 9/40\n",
      "2/2 [==============================] - 3s 1s/step - loss: 1.1612 - accuracy: 0.4655\n",
      "Epoch 10/40\n",
      "2/2 [==============================] - 3s 1s/step - loss: 1.0836 - accuracy: 0.6207\n",
      "Epoch 11/40\n",
      "2/2 [==============================] - 3s 2s/step - loss: 1.0197 - accuracy: 0.6379\n",
      "Epoch 12/40\n",
      "2/2 [==============================] - 3s 1s/step - loss: 0.9998 - accuracy: 0.5690\n",
      "Epoch 13/40\n",
      "2/2 [==============================] - 3s 1s/step - loss: 0.9567 - accuracy: 0.6034\n",
      "Epoch 14/40\n",
      "2/2 [==============================] - 3s 1s/step - loss: 0.8960 - accuracy: 0.6552\n",
      "Epoch 15/40\n",
      "2/2 [==============================] - 3s 2s/step - loss: 0.8634 - accuracy: 0.6552\n",
      "Epoch 16/40\n",
      "2/2 [==============================] - 3s 2s/step - loss: 0.8586 - accuracy: 0.6552\n",
      "Epoch 17/40\n",
      "2/2 [==============================] - 3s 1s/step - loss: 0.7973 - accuracy: 0.6724\n",
      "Epoch 18/40\n",
      "2/2 [==============================] - 3s 1s/step - loss: 0.7309 - accuracy: 0.7241\n",
      "Epoch 19/40\n",
      "2/2 [==============================] - 3s 1s/step - loss: 0.7657 - accuracy: 0.6379\n",
      "Epoch 20/40\n",
      "2/2 [==============================] - 3s 1s/step - loss: 0.7051 - accuracy: 0.7241\n",
      "Epoch 21/40\n",
      "2/2 [==============================] - 3s 2s/step - loss: 0.7362 - accuracy: 0.6552\n",
      "Epoch 22/40\n",
      "2/2 [==============================] - 3s 1s/step - loss: 0.6479 - accuracy: 0.7241\n",
      "Epoch 23/40\n",
      "2/2 [==============================] - 3s 1s/step - loss: 0.6630 - accuracy: 0.7069\n",
      "Epoch 24/40\n",
      "2/2 [==============================] - 3s 1s/step - loss: 0.6539 - accuracy: 0.7241\n",
      "Epoch 25/40\n",
      "2/2 [==============================] - 3s 2s/step - loss: 0.6581 - accuracy: 0.7241\n",
      "Epoch 26/40\n",
      "2/2 [==============================] - 4s 2s/step - loss: 0.5557 - accuracy: 0.8103\n",
      "Epoch 27/40\n",
      "2/2 [==============================] - 4s 2s/step - loss: 0.6300 - accuracy: 0.7241\n",
      "Epoch 28/40\n",
      "2/2 [==============================] - 4s 2s/step - loss: 0.5216 - accuracy: 0.7759\n",
      "Epoch 29/40\n",
      "2/2 [==============================] - 4s 2s/step - loss: 0.5689 - accuracy: 0.7414\n",
      "Epoch 30/40\n",
      "2/2 [==============================] - 4s 2s/step - loss: 0.5569 - accuracy: 0.7414\n",
      "Epoch 31/40\n",
      "2/2 [==============================] - 3s 1s/step - loss: 0.5753 - accuracy: 0.7241\n",
      "Epoch 32/40\n",
      "2/2 [==============================] - 4s 2s/step - loss: 0.4966 - accuracy: 0.8621\n",
      "Epoch 33/40\n",
      "2/2 [==============================] - 4s 2s/step - loss: 0.4456 - accuracy: 0.8448\n",
      "Epoch 34/40\n",
      "2/2 [==============================] - 4s 2s/step - loss: 0.4368 - accuracy: 0.8103\n",
      "Epoch 35/40\n",
      "2/2 [==============================] - 3s 2s/step - loss: 0.3646 - accuracy: 0.8793\n",
      "Epoch 36/40\n",
      "2/2 [==============================] - 3s 1s/step - loss: 0.4160 - accuracy: 0.8793\n",
      "Epoch 37/40\n",
      "2/2 [==============================] - 3s 1s/step - loss: 0.4370 - accuracy: 0.8448\n",
      "Epoch 38/40\n",
      "2/2 [==============================] - 3s 2s/step - loss: 0.3999 - accuracy: 0.8448\n",
      "Epoch 39/40\n",
      "2/2 [==============================] - 3s 2s/step - loss: 0.3614 - accuracy: 0.8621\n",
      "Epoch 40/40\n",
      "2/2 [==============================] - 3s 1s/step - loss: 0.3920 - accuracy: 0.8793\n"
     ]
    },
    {
     "data": {
      "text/plain": [
       "<keras.callbacks.History at 0x1aa9a6f2250>"
      ]
     },
     "execution_count": 31,
     "metadata": {},
     "output_type": "execute_result"
    }
   ],
   "source": [
    "data_augmentation = models.Sequential([\n",
    "        layers.experimental.preprocessing.RandomFlip('horizontal' , input_shape = (150 , 150 , 3)),\n",
    "        layers.experimental.preprocessing.RandomRotation(0.2),\n",
    "#         layers.experimental.preprocessing.RandomTranslation(0.1),\n",
    "        layers.experimental.preprocessing.RandomFlip()\n",
    "        \n",
    "])\n",
    "\n",
    "cnnModel_augme = models.Sequential([\n",
    "    data_augmentation,\n",
    "#     CNN Layers \n",
    "    layers.Conv2D(filters = 84 , kernel_size=(3,3) , activation = 'relu' , input_shape = (150,150,3)),\n",
    "    layers.MaxPooling2D((2,2,)),\n",
    "    \n",
    "    layers.Conv2D(filters = 25 , kernel_size=(3,3) , activation = 'relu' , input_shape = (150,150,3)),\n",
    "    layers.MaxPooling2D((2,2,)),\n",
    "    \n",
    "#     layers.Conv2D(filters = 10 , kernel_size=(3,3) , activation = 'relu' , input_shape = (50,50,3)),\n",
    "#     layers.MaxPooling2D((2,2,)),\n",
    "    \n",
    "#     ANN Layers \n",
    "    layers.Flatten(input_shape = (150 , 150,3)),\n",
    "    layers.Dense(84 , activation = 'relu'),\n",
    "    layers.Dense(22 , activation = 'relu'),\n",
    "    layers.Dense(4 , activation = 'sigmoid'),\n",
    "\n",
    "])\n",
    "\n",
    "cnnModel_augme.compile(\n",
    "    optimizer = 'adam',\n",
    "    loss = 'sparse_categorical_crossentropy',\n",
    "    metrics = ['accuracy']\n",
    ")\n",
    "\n",
    "cnnModel_augme.fit(x_train , y_train , epochs = 40)"
   ]
  },
  {
   "cell_type": "code",
   "execution_count": 32,
   "id": "3d8f17f5",
   "metadata": {
    "scrolled": false
   },
   "outputs": [
    {
     "name": "stdout",
     "output_type": "stream",
     "text": [
      "1/1 [==============================] - 1s 739ms/step - loss: 1.3156 - accuracy: 0.6923\n"
     ]
    },
    {
     "data": {
      "text/plain": [
       "[1.3155853748321533, 0.692307710647583]"
      ]
     },
     "execution_count": 32,
     "metadata": {},
     "output_type": "execute_result"
    }
   ],
   "source": [
    "cnnModel_augme.evaluate(x_test , y_test)"
   ]
  },
  {
   "cell_type": "code",
   "execution_count": 33,
   "id": "6b43c672",
   "metadata": {},
   "outputs": [
    {
     "data": {
      "text/plain": [
       "Text(24.0, 0.5, 'Truth')"
      ]
     },
     "execution_count": 33,
     "metadata": {},
     "output_type": "execute_result"
    },
    {
     "data": {
      "image/png": "[encoded data removed]",
      "text/plain": [
       "<Figure size 360x360 with 2 Axes>"
      ]
     },
     "metadata": {
      "needs_background": "light"
     },
     "output_type": "display_data"
    }
   ],
   "source": [
    "yPredCnn_aug = cnnModel_augme.predict(x_test)\n",
    "yPredCnn_aug_label = [np.argmax(x) for x in yPredCnn_aug]\n",
    "cnn_conf_aug = confusion_matrix(yPredCnn_aug_label , y_test)\n",
    "plt.figure(figsize=(5,5))\n",
    "sb.heatmap(cnn_conf_aug , annot=True ,fmt='d')\n",
    "plt.xlabel('Predicted')\n",
    "plt.ylabel(\"Truth\")"
   ]
  },
  {
   "cell_type": "code",
   "execution_count": 34,
   "id": "9eefdcba",
   "metadata": {},
   "outputs": [],
   "source": [
    "# print(accuracy_score(ypred_tree, ytest))\n",
    "# confusion_matrix(ypred_tree , ytest)"
   ]
  },
  {
   "cell_type": "code",
   "execution_count": 35,
   "id": "61f917c8",
   "metadata": {},
   "outputs": [],
   "source": [
    "# #  Testing url \n",
    "\n",
    "# url = input()\n",
    "# img = plt.imread(url)\n",
    "# img_resize = img.resize((150 , 150 ,3))\n",
    "# # plt.imshow(img_resize)\n",
    "# # cnnModel_augme.predict(img_resize)"
   ]
  },
  {
   "cell_type": "markdown",
   "id": "2e5db111",
   "metadata": {},
   "source": [
    "### using K-Fold Cross validation for SVM"
   ]
  },
  {
   "cell_type": "code",
   "execution_count": 36,
   "id": "d03fefd8",
   "metadata": {},
   "outputs": [
    {
     "data": {
      "text/plain": [
       "array([0.61904762, 0.38095238, 0.47619048, 0.23809524])"
      ]
     },
     "execution_count": 36,
     "metadata": {},
     "output_type": "execute_result"
    }
   ],
   "source": [
    "from sklearn.model_selection import ShuffleSplit , cross_val_score\n",
    "cv = ShuffleSplit(n_splits = 4 , test_size = 0.25 , random_state = 0)\n",
    "cross_val_score(SVC(C = 1 , gamma = 8 ) , x_scaled1 , y_target , cv = cv)"
   ]
  },
  {
   "cell_type": "code",
   "execution_count": 37,
   "id": "84c69e81",
   "metadata": {},
   "outputs": [],
   "source": [
    "from sklearn.preprocessing import MinMaxScaler\n",
    "scale = MinMaxScaler()\n",
    "X_minMaxscale = scale.fit_transform(flat_Data)"
   ]
  },
  {
   "cell_type": "code",
   "execution_count": 38,
   "id": "3076bf7d",
   "metadata": {},
   "outputs": [
    {
     "data": {
      "text/plain": [
       "array([0.33333333, 0.23809524, 0.28571429, 0.33333333])"
      ]
     },
     "execution_count": 38,
     "metadata": {},
     "output_type": "execute_result"
    }
   ],
   "source": [
    "#  minmax scale is not working to improve accuracy \n",
    "\n",
    "cross_val_score(SVC(C = 1 , gamma = 1 ) , X_minMaxscale , y_target , cv = cv)"
   ]
  },
  {
   "cell_type": "code",
   "execution_count": 39,
   "id": "e8b3ece0",
   "metadata": {},
   "outputs": [],
   "source": [
    "# from sklearn.model_selection import GridSearchCV\n",
    "# from sklearn.tree import DecisionTreeRegressor\n",
    "# import pandas as pd\n",
    "# from sklearn.svm import SVC\n",
    "\n",
    "# def find_best_model_using_gridSearchCv(x , y):\n",
    "#     algo = {\n",
    "        \n",
    "#         'decision_tree' : {\n",
    "#             'model' : DecisionTreeRegressor() ,\n",
    "#             'params' : {\n",
    "#                 'criterion' : ['mse','friedman_mse'],\n",
    "#                 'splitter': ['best','random']\n",
    "#             }\n",
    "\n",
    "#         } , \n",
    "        \n",
    "#         'SVM' : {\n",
    "#             'model' : SVC() , \n",
    "#             'params' : {\n",
    "#                 'kernel':['linear'],\n",
    "#                 'random_state' : [0,5,10,48,75],\n",
    "#                 'gamma' : [0.1,0.01 ,1,5,8],\n",
    "#                 'C' : [0.1,1,0.5,6,7] \n",
    "#             }\n",
    "#         }\n",
    "#     }\n",
    "#     scores = []\n",
    "#     cv = ShuffleSplit(n_splits = 5 , test_size = 0.2 , random_state = 0)\n",
    "#     for algo_name , config in algo.items():\n",
    "#         gs = GridSearchCV(config['model'] , config['params'] , cv = cv , return_train_score =  False)\n",
    "#         gs.fit(x,y)\n",
    "#         scores.append({\n",
    "#             'model' : algo_name , \n",
    "#             'best_score' : gs.best_score_,\n",
    "#             'best_params' : gs.best_params_\n",
    "#         })\n",
    "#     return pd.DataFrame(scores , columns = ['model' , 'best_score' , 'best_params'])\n",
    "# find_best_model_using_gridSearchCv(x_scaled1 ,y_target )"
   ]
  },
  {
   "cell_type": "code",
   "execution_count": null,
   "id": "eef43852",
   "metadata": {},
   "outputs": [],
   "source": []
  },
  {
   "cell_type": "code",
   "execution_count": null,
   "id": "f4e73178",
   "metadata": {},
   "outputs": [],
   "source": []
  }
 ],
 "metadata": {
  "kernelspec": {
   "display_name": "Python 3 (ipykernel)",
   "language": "python",
   "name": "python3"
  },
  "language_info": {
   "codemirror_mode": {
    "name": "ipython",
    "version": 3
   },
   "file_extension": ".py",
   "mimetype": "text/x-python",
   "name": "python",
   "nbconvert_exporter": "python",
   "pygments_lexer": "ipython3",
   "version": "3.9.7"
  }
 },
 "nbformat": 4,
 "nbformat_minor": 5
}
